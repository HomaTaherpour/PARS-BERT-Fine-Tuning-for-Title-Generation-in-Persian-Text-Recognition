{
  "nbformat": 4,
  "nbformat_minor": 0,
  "metadata": {
    "colab": {
      "provenance": [],
      "gpuType": "T4"
    },
    "kernelspec": {
      "name": "python3",
      "display_name": "Python 3"
    },
    "language_info": {
      "name": "python"
    },
    "accelerator": "GPU",
    "widgets": {
      "application/vnd.jupyter.widget-state+json": {
        "1671d49b2e2b4e88818f9a7ecc1c9857": {
          "model_module": "@jupyter-widgets/controls",
          "model_name": "HBoxModel",
          "model_module_version": "1.5.0",
          "state": {
            "_dom_classes": [],
            "_model_module": "@jupyter-widgets/controls",
            "_model_module_version": "1.5.0",
            "_model_name": "HBoxModel",
            "_view_count": null,
            "_view_module": "@jupyter-widgets/controls",
            "_view_module_version": "1.5.0",
            "_view_name": "HBoxView",
            "box_style": "",
            "children": [
              "IPY_MODEL_0bbcb2e0cde14019a1bfc8e212c74dfb",
              "IPY_MODEL_296d60737ef7422f930968922f7d1952",
              "IPY_MODEL_e556c1388b8a4bbd9b8800f1632fd26e"
            ],
            "layout": "IPY_MODEL_c231adc90cbb43569811dd6299b83a21"
          }
        },
        "0bbcb2e0cde14019a1bfc8e212c74dfb": {
          "model_module": "@jupyter-widgets/controls",
          "model_name": "HTMLModel",
          "model_module_version": "1.5.0",
          "state": {
            "_dom_classes": [],
            "_model_module": "@jupyter-widgets/controls",
            "_model_module_version": "1.5.0",
            "_model_name": "HTMLModel",
            "_view_count": null,
            "_view_module": "@jupyter-widgets/controls",
            "_view_module_version": "1.5.0",
            "_view_name": "HTMLView",
            "description": "",
            "description_tooltip": null,
            "layout": "IPY_MODEL_3bf2e721f341463db2791b0cdfbf40cb",
            "placeholder": "​",
            "style": "IPY_MODEL_784dda0dbbc44c388a14eeb6c60dcb9c",
            "value": "Map: 100%"
          }
        },
        "296d60737ef7422f930968922f7d1952": {
          "model_module": "@jupyter-widgets/controls",
          "model_name": "FloatProgressModel",
          "model_module_version": "1.5.0",
          "state": {
            "_dom_classes": [],
            "_model_module": "@jupyter-widgets/controls",
            "_model_module_version": "1.5.0",
            "_model_name": "FloatProgressModel",
            "_view_count": null,
            "_view_module": "@jupyter-widgets/controls",
            "_view_module_version": "1.5.0",
            "_view_name": "ProgressView",
            "bar_style": "success",
            "description": "",
            "description_tooltip": null,
            "layout": "IPY_MODEL_e67766ba851544f4a509e74bdc992955",
            "max": 1000,
            "min": 0,
            "orientation": "horizontal",
            "style": "IPY_MODEL_7785d46983fc405a9e4787ed5c95e440",
            "value": 1000
          }
        },
        "e556c1388b8a4bbd9b8800f1632fd26e": {
          "model_module": "@jupyter-widgets/controls",
          "model_name": "HTMLModel",
          "model_module_version": "1.5.0",
          "state": {
            "_dom_classes": [],
            "_model_module": "@jupyter-widgets/controls",
            "_model_module_version": "1.5.0",
            "_model_name": "HTMLModel",
            "_view_count": null,
            "_view_module": "@jupyter-widgets/controls",
            "_view_module_version": "1.5.0",
            "_view_name": "HTMLView",
            "description": "",
            "description_tooltip": null,
            "layout": "IPY_MODEL_4bb92340e92e441bb9f9f0fd9b9c7181",
            "placeholder": "​",
            "style": "IPY_MODEL_70d3a274241d497c961175b74c0afd3e",
            "value": " 1000/1000 [00:05&lt;00:00, 190.06 examples/s]"
          }
        },
        "c231adc90cbb43569811dd6299b83a21": {
          "model_module": "@jupyter-widgets/base",
          "model_name": "LayoutModel",
          "model_module_version": "1.2.0",
          "state": {
            "_model_module": "@jupyter-widgets/base",
            "_model_module_version": "1.2.0",
            "_model_name": "LayoutModel",
            "_view_count": null,
            "_view_module": "@jupyter-widgets/base",
            "_view_module_version": "1.2.0",
            "_view_name": "LayoutView",
            "align_content": null,
            "align_items": null,
            "align_self": null,
            "border": null,
            "bottom": null,
            "display": null,
            "flex": null,
            "flex_flow": null,
            "grid_area": null,
            "grid_auto_columns": null,
            "grid_auto_flow": null,
            "grid_auto_rows": null,
            "grid_column": null,
            "grid_gap": null,
            "grid_row": null,
            "grid_template_areas": null,
            "grid_template_columns": null,
            "grid_template_rows": null,
            "height": null,
            "justify_content": null,
            "justify_items": null,
            "left": null,
            "margin": null,
            "max_height": null,
            "max_width": null,
            "min_height": null,
            "min_width": null,
            "object_fit": null,
            "object_position": null,
            "order": null,
            "overflow": null,
            "overflow_x": null,
            "overflow_y": null,
            "padding": null,
            "right": null,
            "top": null,
            "visibility": null,
            "width": null
          }
        },
        "3bf2e721f341463db2791b0cdfbf40cb": {
          "model_module": "@jupyter-widgets/base",
          "model_name": "LayoutModel",
          "model_module_version": "1.2.0",
          "state": {
            "_model_module": "@jupyter-widgets/base",
            "_model_module_version": "1.2.0",
            "_model_name": "LayoutModel",
            "_view_count": null,
            "_view_module": "@jupyter-widgets/base",
            "_view_module_version": "1.2.0",
            "_view_name": "LayoutView",
            "align_content": null,
            "align_items": null,
            "align_self": null,
            "border": null,
            "bottom": null,
            "display": null,
            "flex": null,
            "flex_flow": null,
            "grid_area": null,
            "grid_auto_columns": null,
            "grid_auto_flow": null,
            "grid_auto_rows": null,
            "grid_column": null,
            "grid_gap": null,
            "grid_row": null,
            "grid_template_areas": null,
            "grid_template_columns": null,
            "grid_template_rows": null,
            "height": null,
            "justify_content": null,
            "justify_items": null,
            "left": null,
            "margin": null,
            "max_height": null,
            "max_width": null,
            "min_height": null,
            "min_width": null,
            "object_fit": null,
            "object_position": null,
            "order": null,
            "overflow": null,
            "overflow_x": null,
            "overflow_y": null,
            "padding": null,
            "right": null,
            "top": null,
            "visibility": null,
            "width": null
          }
        },
        "784dda0dbbc44c388a14eeb6c60dcb9c": {
          "model_module": "@jupyter-widgets/controls",
          "model_name": "DescriptionStyleModel",
          "model_module_version": "1.5.0",
          "state": {
            "_model_module": "@jupyter-widgets/controls",
            "_model_module_version": "1.5.0",
            "_model_name": "DescriptionStyleModel",
            "_view_count": null,
            "_view_module": "@jupyter-widgets/base",
            "_view_module_version": "1.2.0",
            "_view_name": "StyleView",
            "description_width": ""
          }
        },
        "e67766ba851544f4a509e74bdc992955": {
          "model_module": "@jupyter-widgets/base",
          "model_name": "LayoutModel",
          "model_module_version": "1.2.0",
          "state": {
            "_model_module": "@jupyter-widgets/base",
            "_model_module_version": "1.2.0",
            "_model_name": "LayoutModel",
            "_view_count": null,
            "_view_module": "@jupyter-widgets/base",
            "_view_module_version": "1.2.0",
            "_view_name": "LayoutView",
            "align_content": null,
            "align_items": null,
            "align_self": null,
            "border": null,
            "bottom": null,
            "display": null,
            "flex": null,
            "flex_flow": null,
            "grid_area": null,
            "grid_auto_columns": null,
            "grid_auto_flow": null,
            "grid_auto_rows": null,
            "grid_column": null,
            "grid_gap": null,
            "grid_row": null,
            "grid_template_areas": null,
            "grid_template_columns": null,
            "grid_template_rows": null,
            "height": null,
            "justify_content": null,
            "justify_items": null,
            "left": null,
            "margin": null,
            "max_height": null,
            "max_width": null,
            "min_height": null,
            "min_width": null,
            "object_fit": null,
            "object_position": null,
            "order": null,
            "overflow": null,
            "overflow_x": null,
            "overflow_y": null,
            "padding": null,
            "right": null,
            "top": null,
            "visibility": null,
            "width": null
          }
        },
        "7785d46983fc405a9e4787ed5c95e440": {
          "model_module": "@jupyter-widgets/controls",
          "model_name": "ProgressStyleModel",
          "model_module_version": "1.5.0",
          "state": {
            "_model_module": "@jupyter-widgets/controls",
            "_model_module_version": "1.5.0",
            "_model_name": "ProgressStyleModel",
            "_view_count": null,
            "_view_module": "@jupyter-widgets/base",
            "_view_module_version": "1.2.0",
            "_view_name": "StyleView",
            "bar_color": null,
            "description_width": ""
          }
        },
        "4bb92340e92e441bb9f9f0fd9b9c7181": {
          "model_module": "@jupyter-widgets/base",
          "model_name": "LayoutModel",
          "model_module_version": "1.2.0",
          "state": {
            "_model_module": "@jupyter-widgets/base",
            "_model_module_version": "1.2.0",
            "_model_name": "LayoutModel",
            "_view_count": null,
            "_view_module": "@jupyter-widgets/base",
            "_view_module_version": "1.2.0",
            "_view_name": "LayoutView",
            "align_content": null,
            "align_items": null,
            "align_self": null,
            "border": null,
            "bottom": null,
            "display": null,
            "flex": null,
            "flex_flow": null,
            "grid_area": null,
            "grid_auto_columns": null,
            "grid_auto_flow": null,
            "grid_auto_rows": null,
            "grid_column": null,
            "grid_gap": null,
            "grid_row": null,
            "grid_template_areas": null,
            "grid_template_columns": null,
            "grid_template_rows": null,
            "height": null,
            "justify_content": null,
            "justify_items": null,
            "left": null,
            "margin": null,
            "max_height": null,
            "max_width": null,
            "min_height": null,
            "min_width": null,
            "object_fit": null,
            "object_position": null,
            "order": null,
            "overflow": null,
            "overflow_x": null,
            "overflow_y": null,
            "padding": null,
            "right": null,
            "top": null,
            "visibility": null,
            "width": null
          }
        },
        "70d3a274241d497c961175b74c0afd3e": {
          "model_module": "@jupyter-widgets/controls",
          "model_name": "DescriptionStyleModel",
          "model_module_version": "1.5.0",
          "state": {
            "_model_module": "@jupyter-widgets/controls",
            "_model_module_version": "1.5.0",
            "_model_name": "DescriptionStyleModel",
            "_view_count": null,
            "_view_module": "@jupyter-widgets/base",
            "_view_module_version": "1.2.0",
            "_view_name": "StyleView",
            "description_width": ""
          }
        },
        "78bed8e736464d569475a73b2a26d2c9": {
          "model_module": "@jupyter-widgets/controls",
          "model_name": "HBoxModel",
          "model_module_version": "1.5.0",
          "state": {
            "_dom_classes": [],
            "_model_module": "@jupyter-widgets/controls",
            "_model_module_version": "1.5.0",
            "_model_name": "HBoxModel",
            "_view_count": null,
            "_view_module": "@jupyter-widgets/controls",
            "_view_module_version": "1.5.0",
            "_view_name": "HBoxView",
            "box_style": "",
            "children": [
              "IPY_MODEL_fdd09403151a485cafc3e757d31c57ee",
              "IPY_MODEL_a685eb6945f3431aa38a21a8c01008fc",
              "IPY_MODEL_984a37babc7a4fc5bd519d992070fb62"
            ],
            "layout": "IPY_MODEL_d4738cfb1817420999adb7d741b1cecf"
          }
        },
        "fdd09403151a485cafc3e757d31c57ee": {
          "model_module": "@jupyter-widgets/controls",
          "model_name": "HTMLModel",
          "model_module_version": "1.5.0",
          "state": {
            "_dom_classes": [],
            "_model_module": "@jupyter-widgets/controls",
            "_model_module_version": "1.5.0",
            "_model_name": "HTMLModel",
            "_view_count": null,
            "_view_module": "@jupyter-widgets/controls",
            "_view_module_version": "1.5.0",
            "_view_name": "HTMLView",
            "description": "",
            "description_tooltip": null,
            "layout": "IPY_MODEL_947e36e216554e3c8c723286a18703b6",
            "placeholder": "​",
            "style": "IPY_MODEL_83cd5dc46556454899ed642d66461cae",
            "value": "Map: 100%"
          }
        },
        "a685eb6945f3431aa38a21a8c01008fc": {
          "model_module": "@jupyter-widgets/controls",
          "model_name": "FloatProgressModel",
          "model_module_version": "1.5.0",
          "state": {
            "_dom_classes": [],
            "_model_module": "@jupyter-widgets/controls",
            "_model_module_version": "1.5.0",
            "_model_name": "FloatProgressModel",
            "_view_count": null,
            "_view_module": "@jupyter-widgets/controls",
            "_view_module_version": "1.5.0",
            "_view_name": "ProgressView",
            "bar_style": "success",
            "description": "",
            "description_tooltip": null,
            "layout": "IPY_MODEL_8c083bdded99405a998ed7322b6dbc3a",
            "max": 200,
            "min": 0,
            "orientation": "horizontal",
            "style": "IPY_MODEL_9fa70914a84c46248767b6a02ae83b8e",
            "value": 200
          }
        },
        "984a37babc7a4fc5bd519d992070fb62": {
          "model_module": "@jupyter-widgets/controls",
          "model_name": "HTMLModel",
          "model_module_version": "1.5.0",
          "state": {
            "_dom_classes": [],
            "_model_module": "@jupyter-widgets/controls",
            "_model_module_version": "1.5.0",
            "_model_name": "HTMLModel",
            "_view_count": null,
            "_view_module": "@jupyter-widgets/controls",
            "_view_module_version": "1.5.0",
            "_view_name": "HTMLView",
            "description": "",
            "description_tooltip": null,
            "layout": "IPY_MODEL_79a34f341636496ea258d6316f4fb3aa",
            "placeholder": "​",
            "style": "IPY_MODEL_f1eebc24848a426bbc6f0fd1f3d3791b",
            "value": " 200/200 [00:00&lt;00:00, 338.26 examples/s]"
          }
        },
        "d4738cfb1817420999adb7d741b1cecf": {
          "model_module": "@jupyter-widgets/base",
          "model_name": "LayoutModel",
          "model_module_version": "1.2.0",
          "state": {
            "_model_module": "@jupyter-widgets/base",
            "_model_module_version": "1.2.0",
            "_model_name": "LayoutModel",
            "_view_count": null,
            "_view_module": "@jupyter-widgets/base",
            "_view_module_version": "1.2.0",
            "_view_name": "LayoutView",
            "align_content": null,
            "align_items": null,
            "align_self": null,
            "border": null,
            "bottom": null,
            "display": null,
            "flex": null,
            "flex_flow": null,
            "grid_area": null,
            "grid_auto_columns": null,
            "grid_auto_flow": null,
            "grid_auto_rows": null,
            "grid_column": null,
            "grid_gap": null,
            "grid_row": null,
            "grid_template_areas": null,
            "grid_template_columns": null,
            "grid_template_rows": null,
            "height": null,
            "justify_content": null,
            "justify_items": null,
            "left": null,
            "margin": null,
            "max_height": null,
            "max_width": null,
            "min_height": null,
            "min_width": null,
            "object_fit": null,
            "object_position": null,
            "order": null,
            "overflow": null,
            "overflow_x": null,
            "overflow_y": null,
            "padding": null,
            "right": null,
            "top": null,
            "visibility": null,
            "width": null
          }
        },
        "947e36e216554e3c8c723286a18703b6": {
          "model_module": "@jupyter-widgets/base",
          "model_name": "LayoutModel",
          "model_module_version": "1.2.0",
          "state": {
            "_model_module": "@jupyter-widgets/base",
            "_model_module_version": "1.2.0",
            "_model_name": "LayoutModel",
            "_view_count": null,
            "_view_module": "@jupyter-widgets/base",
            "_view_module_version": "1.2.0",
            "_view_name": "LayoutView",
            "align_content": null,
            "align_items": null,
            "align_self": null,
            "border": null,
            "bottom": null,
            "display": null,
            "flex": null,
            "flex_flow": null,
            "grid_area": null,
            "grid_auto_columns": null,
            "grid_auto_flow": null,
            "grid_auto_rows": null,
            "grid_column": null,
            "grid_gap": null,
            "grid_row": null,
            "grid_template_areas": null,
            "grid_template_columns": null,
            "grid_template_rows": null,
            "height": null,
            "justify_content": null,
            "justify_items": null,
            "left": null,
            "margin": null,
            "max_height": null,
            "max_width": null,
            "min_height": null,
            "min_width": null,
            "object_fit": null,
            "object_position": null,
            "order": null,
            "overflow": null,
            "overflow_x": null,
            "overflow_y": null,
            "padding": null,
            "right": null,
            "top": null,
            "visibility": null,
            "width": null
          }
        },
        "83cd5dc46556454899ed642d66461cae": {
          "model_module": "@jupyter-widgets/controls",
          "model_name": "DescriptionStyleModel",
          "model_module_version": "1.5.0",
          "state": {
            "_model_module": "@jupyter-widgets/controls",
            "_model_module_version": "1.5.0",
            "_model_name": "DescriptionStyleModel",
            "_view_count": null,
            "_view_module": "@jupyter-widgets/base",
            "_view_module_version": "1.2.0",
            "_view_name": "StyleView",
            "description_width": ""
          }
        },
        "8c083bdded99405a998ed7322b6dbc3a": {
          "model_module": "@jupyter-widgets/base",
          "model_name": "LayoutModel",
          "model_module_version": "1.2.0",
          "state": {
            "_model_module": "@jupyter-widgets/base",
            "_model_module_version": "1.2.0",
            "_model_name": "LayoutModel",
            "_view_count": null,
            "_view_module": "@jupyter-widgets/base",
            "_view_module_version": "1.2.0",
            "_view_name": "LayoutView",
            "align_content": null,
            "align_items": null,
            "align_self": null,
            "border": null,
            "bottom": null,
            "display": null,
            "flex": null,
            "flex_flow": null,
            "grid_area": null,
            "grid_auto_columns": null,
            "grid_auto_flow": null,
            "grid_auto_rows": null,
            "grid_column": null,
            "grid_gap": null,
            "grid_row": null,
            "grid_template_areas": null,
            "grid_template_columns": null,
            "grid_template_rows": null,
            "height": null,
            "justify_content": null,
            "justify_items": null,
            "left": null,
            "margin": null,
            "max_height": null,
            "max_width": null,
            "min_height": null,
            "min_width": null,
            "object_fit": null,
            "object_position": null,
            "order": null,
            "overflow": null,
            "overflow_x": null,
            "overflow_y": null,
            "padding": null,
            "right": null,
            "top": null,
            "visibility": null,
            "width": null
          }
        },
        "9fa70914a84c46248767b6a02ae83b8e": {
          "model_module": "@jupyter-widgets/controls",
          "model_name": "ProgressStyleModel",
          "model_module_version": "1.5.0",
          "state": {
            "_model_module": "@jupyter-widgets/controls",
            "_model_module_version": "1.5.0",
            "_model_name": "ProgressStyleModel",
            "_view_count": null,
            "_view_module": "@jupyter-widgets/base",
            "_view_module_version": "1.2.0",
            "_view_name": "StyleView",
            "bar_color": null,
            "description_width": ""
          }
        },
        "79a34f341636496ea258d6316f4fb3aa": {
          "model_module": "@jupyter-widgets/base",
          "model_name": "LayoutModel",
          "model_module_version": "1.2.0",
          "state": {
            "_model_module": "@jupyter-widgets/base",
            "_model_module_version": "1.2.0",
            "_model_name": "LayoutModel",
            "_view_count": null,
            "_view_module": "@jupyter-widgets/base",
            "_view_module_version": "1.2.0",
            "_view_name": "LayoutView",
            "align_content": null,
            "align_items": null,
            "align_self": null,
            "border": null,
            "bottom": null,
            "display": null,
            "flex": null,
            "flex_flow": null,
            "grid_area": null,
            "grid_auto_columns": null,
            "grid_auto_flow": null,
            "grid_auto_rows": null,
            "grid_column": null,
            "grid_gap": null,
            "grid_row": null,
            "grid_template_areas": null,
            "grid_template_columns": null,
            "grid_template_rows": null,
            "height": null,
            "justify_content": null,
            "justify_items": null,
            "left": null,
            "margin": null,
            "max_height": null,
            "max_width": null,
            "min_height": null,
            "min_width": null,
            "object_fit": null,
            "object_position": null,
            "order": null,
            "overflow": null,
            "overflow_x": null,
            "overflow_y": null,
            "padding": null,
            "right": null,
            "top": null,
            "visibility": null,
            "width": null
          }
        },
        "f1eebc24848a426bbc6f0fd1f3d3791b": {
          "model_module": "@jupyter-widgets/controls",
          "model_name": "DescriptionStyleModel",
          "model_module_version": "1.5.0",
          "state": {
            "_model_module": "@jupyter-widgets/controls",
            "_model_module_version": "1.5.0",
            "_model_name": "DescriptionStyleModel",
            "_view_count": null,
            "_view_module": "@jupyter-widgets/base",
            "_view_module_version": "1.2.0",
            "_view_name": "StyleView",
            "description_width": ""
          }
        }
      }
    }
  },
  "cells": [
    {
      "cell_type": "code",
      "source": [
        "\n",
        "!pip install -qU transformers datasets\n"
      ],
      "metadata": {
        "id": "UlqCwqkBSEzs"
      },
      "execution_count": 2,
      "outputs": []
    },
    {
      "cell_type": "code",
      "source": [
        "import numpy as np\n",
        "import pandas as pd\n",
        "from IPython import display\n",
        "from datasets import load_dataset\n",
        "from transformers import MT5ForConditionalGeneration, MT5Tokenizer, Trainer, TrainingArguments\n"
      ],
      "metadata": {
        "id": "XnJGRGjMTGCi"
      },
      "execution_count": null,
      "outputs": []
    },
    {
      "cell_type": "code",
      "source": [
        "\n",
        "data = load_dataset(\"pn_summary\")"
      ],
      "metadata": {
        "colab": {
          "base_uri": "https://localhost:8080/"
        },
        "id": "l10CCpGnQbjF",
        "outputId": "90352dcb-b4d3-445f-98ac-c8c9a378dfcc"
      },
      "execution_count": null,
      "outputs": [
        {
          "output_type": "stream",
          "name": "stderr",
          "text": [
            "/usr/local/lib/python3.10/dist-packages/huggingface_hub/utils/_token.py:89: UserWarning: \n",
            "The secret `HF_TOKEN` does not exist in your Colab secrets.\n",
            "To authenticate with the Hugging Face Hub, create a token in your settings tab (https://huggingface.co/settings/tokens), set it as secret in your Google Colab and restart your session.\n",
            "You will be able to reuse this secret in all of your notebooks.\n",
            "Please note that authentication is recommended but still optional to access public models or datasets.\n",
            "  warnings.warn(\n"
          ]
        }
      ]
    },
    {
      "cell_type": "code",
      "source": [
        "\n",
        "display.display(display.HTML(\"\"\"\n",
        "\n",
        "\"\"\".strip()))\n",
        "\n",
        "\n",
        "train = data[\"train\"]\n",
        "indices = np.random.randint(0, len(train), 10).tolist()\n",
        "df = pd.DataFrame(train[indices])\n",
        "df = df[[\"id\", \"title\", \"article\", \"summary\", \"category\", \"categories\", \"network\", \"link\"]]\n",
        "df[\"article\"] = df[\"article\"].apply(lambda t: t.replace('[n]', ' ')[:512] + ' [...]')\n",
        "df[\"category\"] = df[\"category\"].apply(lambda t: train.features[\"category\"].int2str(t))\n",
        "df[\"network\"] = df[\"network\"].apply(lambda t: train.features[\"network\"].int2str(t))\n",
        "\n",
        "setup = {\n",
        "    'border': 2,\n",
        "    'show_dimensions': True,\n",
        "    'justify': 'right',\n",
        "    'classes': 'xxx'\n",
        "}\n",
        "display.display(display.HTML(df.to_html(**setup)))"
      ],
      "metadata": {
        "colab": {
          "base_uri": "https://localhost:8080/",
          "height": 1000
        },
        "id": "xlG8GN_2SGT_",
        "outputId": "52f9010d-6966-42ba-d2a5-1e4fb75987b1"
      },
      "execution_count": null,
      "outputs": [
        {
          "output_type": "display_data",
          "data": {
            "text/plain": [
              "<IPython.core.display.HTML object>"
            ],
            "text/html": []
          },
          "metadata": {}
        },
        {
          "output_type": "display_data",
          "data": {
            "text/plain": [
              "<IPython.core.display.HTML object>"
            ],
            "text/html": [
              "<table border=\"2\" class=\"dataframe xxx\">\n",
              "  <thead>\n",
              "    <tr style=\"text-align: right;\">\n",
              "      <th></th>\n",
              "      <th>id</th>\n",
              "      <th>title</th>\n",
              "      <th>article</th>\n",
              "      <th>summary</th>\n",
              "      <th>category</th>\n",
              "      <th>categories</th>\n",
              "      <th>network</th>\n",
              "      <th>link</th>\n",
              "    </tr>\n",
              "  </thead>\n",
              "  <tbody>\n",
              "    <tr>\n",
              "      <th>0</th>\n",
              "      <td>4597017eeddcbbbdd4d1015c7e24b5c467b55e50</td>\n",
              "      <td>آمار کرونا کرمانشاه ۲۲ آبان؛ ۸ فوتی و ۴۹۲ ابتلای جدید</td>\n",
              "      <td>مهدی محمدی در گفت‌وگو با خبرنگار ایمنا، در خصوص آخرین آمار کلی کرونا در استان کرمانشاه در ۲۴ ساعت منتهی به ظهر امروز  پنجشنبه بیست و دوم آبان ماه- اظهار کرد: در حال حاضر یک هزار و ۲۳۹ نفر مبتلای قطعی به کرونا در بیمارستان‌های استان کرمانشاه بستری هستند.   وی با بیان اینکه طی ۲۴ ساعت گذشته ۴۹۲ بیمار مبتلای قطعی کرونا در کرمانشاه شناسایی شده‌است، ادامه داد: از این تعداد ۳۶۸ مورد جز بیماران تست مثبت سرپایی و ۹۴ مورد جز بیماران تست مثبت بستری هستند.   رئیس کمیته اطلاع رسانی ستاد مدیریت کرونا دانشگاه علوم پزشکی  [...]</td>\n",
              "      <td>رئیس کمیته اطلاع‌رسانی ستاد مدیریت کرونا دانشگاه علوم پزشکی کرمانشاه آخرین آمار مبتلایان، بهبود یافتگان و فوتی‌های مبتلا به کرونا بیست و دوم آبان ماه را تشریح کرد.</td>\n",
              "      <td>Society</td>\n",
              "      <td>جامعه</td>\n",
              "      <td>Imna</td>\n",
              "      <td>https://www.imna.ir/news/455044/%D8%A2%D9%85%D8%A7%D8%B1-%DA%A9%D8%B1%D9%88%D9%86%D8%A7-%DA%A9%D8%B1%D9%85%D8%A7%D9%86%D8%B4%D8%A7%D9%87-%DB%B2%DB%B2-%D8%A2%D8%A8%D8%A7%D9%86-%DB%B8-%D9%81%D9%88%D8%AA%DB%8C-%D9%88-%DB%B4%DB%B9%DB%B2-%D8%A7%D8%A8%D8%AA%D9%84%D8%A7%DB%8C-%D8%AC%D8%AF%DB%8C%D8%AF</td>\n",
              "    </tr>\n",
              "    <tr>\n",
              "      <th>1</th>\n",
              "      <td>72cfd5e2355260d09f5bee3ad90dc309965982fb</td>\n",
              "      <td>مجموعه شعر گیو نصیری منتشر شد</td>\n",
              "      <td>به گزارش روز شنبه خبرنگار فرهنگی ایرنا، عالیجناب آتش افروز دومین مجموعه اشعار گیو نصیری است که پیش از آن کتاب سیراب از سراب را منتشر کرده بود.   این مجموعه شعر در قالب‌های شعری آزاد و سپید با نگاهی مدرن پرداخته شده‌اند و شاعر به دنبال دستیابی و معرفی سبکی شخصی و بیانگری منحصر به خود است.   به همین سبب گاهی در پاره‌ای از شعرها مخاطب با پیچیدگی‌های فرمی مواجهه می‌شود. برای مثال در یکی از شعرها با نام جاذبه‌های چپ ساعت که شعری روایی ست، جریان روایت از انتها به آغاز می‌رود یا در شعری دیگر به نام پیوستار دیدن و  [...]</td>\n",
              "      <td>مجموعه شعر عالیجناب آتش افروز سروده گیو نصیری به تازگی توسط انتشارات نگاه معاصر منتشر و راهی باز شده است.</td>\n",
              "      <td>Art-Culture</td>\n",
              "      <td>فرهنگ</td>\n",
              "      <td>Irna</td>\n",
              "      <td>https://www.irna.ir/news/84101751/%D9%85%D8%AC%D9%85%D9%88%D8%B9%D9%87-%D8%B4%D8%B9%D8%B1-%DA%AF%DB%8C%D9%88-%D9%86%D8%B5%DB%8C%D8%B1%DB%8C-%D9%85%D9%86%D8%AA%D8%B4%D8%B1-%D8%B4%D8%AF</td>\n",
              "    </tr>\n",
              "    <tr>\n",
              "      <th>2</th>\n",
              "      <td>668423b13d13baed495997c321bd0712db066d68</td>\n",
              "      <td>قیمت جهانی نفت امروز ۱۵ آذر ماه</td>\n",
              "      <td>به گزارش ایمنا به نقل از رویترز، در حالی که اوپک برای کاهش بیشتر تولید نفت در اوایل سال ۲۰۲۰ توافق کرد قیمت نفت امروز با کاهش مواجه بود.   بر اساس این گزارش، قیمت هر بشکه نفت برنت امروز با ۲۱ سنت معادل ۰٫۳ درصد کاهش به ۶۳ دلار و ۱۸ سنت رسید.   قیمت نفت وست تگزاس اینترمدییت آمریکا هم امروز با ۱۴ سنت معادل ۰٫۲ درصد کاهش به ۵۸ دلار و ۲۹ سنت رسید. قیمت نفت خام آمریکا روز پنجشنبه به بالاترین رقم از پایان ماه سپتامبر یعنی ۵۹ دلار و ۱۲ سنت رسید.   سازمان کشورهای صادر کننده نفت (اوپک) و متحدانش از جمله روسیه موسوم  [...]</td>\n",
              "      <td>با وجود تصمیم اوپک برای کاهش بیشتر تولید نفت، قیمت هر بشکه نفت برنت امروز با ۲۱ سنت معادل ۰٫۳ درصد کاهش به ۶۳ دلار و ۱۸ سنت رسید.</td>\n",
              "      <td>Economy</td>\n",
              "      <td>اقتصادی</td>\n",
              "      <td>Imna</td>\n",
              "      <td>https://www.imna.ir/news/399763/%D9%82%DB%8C%D9%85%D8%AA-%D8%AC%D9%87%D8%A7%D9%86%DB%8C-%D9%86%D9%81%D8%AA-%D8%A7%D9%85%D8%B1%D9%88%D8%B2-%DB%B1%DB%B5-%D8%A2%D8%B0%D8%B1-%D9%85%D8%A7%D9%87</td>\n",
              "    </tr>\n",
              "    <tr>\n",
              "      <th>3</th>\n",
              "      <td>f15ec5a34191c464bdf79b115dc0d1767f3b906a</td>\n",
              "      <td>تکمیل پروژه گازرسانی به منطقه الموت قبل از فصل سرما</td>\n",
              "      <td>به گزارش شانا به نقل از پایگاه اطلاع رسانی وزارت کشور، مرتضی روزبه استاندار قزوین گفت: هم اکنون لوله‌های لازم برای اجرای طرح گاز رسانی به منطقه الموت خریداری شده و ظرف یک هفته آینده توسط پیمانکار به محل پروژه منتقل می‌شود.   استاندار قزوین در ادامه افزود: مراحل اجرای طرح گاز رسانی به منطقه الموت با وجود صعب العبور بودن و اجرای ترانشه‌های ۹۰ متری در برخی نقاط، دارای روند خوبی است و در صورت تامین منابع مالی امیدواریم زمستان امسال مردم منطقه الموت از مزایای نعمت گاز طبیعی برخوردار شوند.   وی تصریح کرد: برای اج [...]</td>\n",
              "      <td>استاندار قزوین از تکمیل پروژه گاز رسانی به منطقه الموت قبل از فرا رسیدن فصل سرما خبر داد.</td>\n",
              "      <td>Oil-Energy</td>\n",
              "      <td>گاز</td>\n",
              "      <td>Shana</td>\n",
              "      <td>https://www.shana.ir/news/218907/%D8%AA%DA%A9%D9%85%DB%8C%D9%84-%D9%BE%D8%B1%D9%88%DA%98%D9%87-%DA%AF%D8%A7%D8%B2%D8%B1%D8%B3%D8%A7%D9%86%DB%8C-%D8%A8%D9%87-%D9%85%D9%86%D8%B7%D9%82%D9%87-%D8%A7%D9%84%D9%85%D9%88%D8%AA-%D9%82%D8%A8%D9%84-%D8%A7%D8%B2-%D9%81%D8%B5%D9%84-%D8%B3%D8%B1%D9%85%D8%A7</td>\n",
              "    </tr>\n",
              "    <tr>\n",
              "      <th>4</th>\n",
              "      <td>e8014f80c62f3cb539d1a953b9f979b016708e77</td>\n",
              "      <td>افزایش ۲۴ درصدی میزان بارش‌ها در شهرضا</td>\n",
              "      <td>ستار سبزه‌علی در گفت و گو با خبرنگار ایمنا از شهرستان شهرضا، با اشاره به فعالیت سامانه ناپایدار بارشی در این شهرستان، اظهار کرد: میزان بارش‌ها در شهرستان در ۳۶ ساعت گذشته، ۴٫۵ میلی‌متر بوده است.   وی ادامه داد: جمع بارش سال زراعی جاری در این شهرستان ۹۸ میلی‌متر است که در مقایسه با مدت مشابه در سال زراعی گذشته، ۶٫۷ برابر و در مقایسه میانگین بلندمدت ۲۴ درصد افزایش داشته است.   رییس اداره هواشناسی شهرضا با اشاره به خروج سامانه ناپایدار جوی از این شهرستان، خاطرنشان کرد: با ورود و فعالیت سامانه دیگری از عصر و او [...]</td>\n",
              "      <td>شهرضا-رییس اداره هواشناسی شهرضا از افزایش ۲۴ درصدی میزان بارش‌ها در این شهرستان در مقایسه با میانگین بلندمدت خبر داد.</td>\n",
              "      <td>Local</td>\n",
              "      <td>شهرهای ایران</td>\n",
              "      <td>Imna</td>\n",
              "      <td>https://www.imna.ir/news/367423/%D8%A7%D9%81%D8%B2%D8%A7%DB%8C%D8%B4-%DB%B2%DB%B4-%D8%AF%D8%B1%D8%B5%D8%AF%DB%8C-%D9%85%DB%8C%D8%B2%D8%A7%D9%86-%D8%A8%D8%A7%D8%B1%D8%B4-%D9%87%D8%A7-%D8%AF%D8%B1-%D8%B4%D9%87%D8%B1%D8%B6%D8%A7</td>\n",
              "    </tr>\n",
              "    <tr>\n",
              "      <th>5</th>\n",
              "      <td>f6cdbafc1396b9a7ffc5df1c6b3ae97d08655d5e</td>\n",
              "      <td>آخرین آمار ابتلاء به کرونای اصفهان در ۱۶ مهرماه</td>\n",
              "      <td>آرش نجیمی در گفت وگو با خبرنگار ایمنا، با اشاره به آمار بیماران جدید مبتلا به ویروس کرونا طی ۲۴ ساعت گذشته، اظهار کرد: تعداد ۲۲۳ مورد بیمار جدید از افراد مشکوک به کرونا ویروس به جز شهرستان‌های کاشان و آران و بیدگل با علائم بالینی در بیمارستان‌ها بستری شدند.   وی اضافه کرد: در همین زمان تعداد ۱۵۰ نفر از بیماران مبتلا به کرونا که در ۲۲ مرکز درمانی و بیمارستان‌های استان به جز کاشان و آران و بیدگل تحت مراقبت بودند با بهتر شدن وضعیت عمومی‌شان ترخیص شدند و لازم است که در قرنطینه دوره نقاهت بیماری را بگذرانند.   س [...]</td>\n",
              "      <td>سخنگوی دانشگاه علوم پزشکی اصفهان با اعلام ابتلا و بستری ۲۲۳ بیمار جدید مشکوک به کووید ۱۹ در بیمارستان‌های استان اصفهان در ۲۴ ساعت گذشته، گفت: در این بازه زمانی ۱۵۰ بیمار با بهبود وضعیت جسمانی ترخیص شدند.</td>\n",
              "      <td>Society</td>\n",
              "      <td>جامعه</td>\n",
              "      <td>Imna</td>\n",
              "      <td>https://www.imna.ir/news/448534/%D8%A2%D8%AE%D8%B1%DB%8C%D9%86-%D8%A2%D9%85%D8%A7%D8%B1-%D8%A7%D8%A8%D8%AA%D9%84%D8%A7%D8%A1-%D8%A8%D9%87-%DA%A9%D8%B1%D9%88%D9%86%D8%A7%DB%8C-%D8%A7%D8%B5%D9%81%D9%87%D8%A7%D9%86-%D8%AF%D8%B1-%DB%B1%DB%B6-%D9%85%D9%87%D8%B1%D9%85%D8%A7%D9%87</td>\n",
              "    </tr>\n",
              "    <tr>\n",
              "      <th>6</th>\n",
              "      <td>4b623ab8cff769af000fff2c0e9c4d783a78fabe</td>\n",
              "      <td>صنعت گاز در ۶ سال آینده شاهد تحول بزرگی خواهد بود</td>\n",
              "      <td>به گزارش شانا، حمیدرضا عراقی در جمع مدیران شرکت گاز استان اصفهان، با اعلام این خبر افزود: این طرح دارای ۳۰۰ ماژول است که پیاده سازی آن بسیار مهم و دستاوردهای خوبی در پی خواهد داشت که با اجرای طرح یادشده طی ۶ سال آینده تحول بزرگی در شرکت ملی گاز ایران ایجاد خواهد شد.   وی همچنین با اشاره به موقعیت استراتژیک ایران در منطقه و جهان گفت: ایران با دارا بودن مزیتهایی چون کوتاهترین مسیر به بازارهای گاز، بزرگترین ظرفیت تولید گاز در جهان، دارنده زیرساختهای بزرگ برای صادرات گاز به نقاط مختلف، نیاز به حداقل سرمایه گذار [...]</td>\n",
              "      <td>مدیرعامل شرکت ملی گاز ایران از ایجاد تحول بزرگ در صنعت گاز با اجرای طرح جامع شرکت ملی گاز ایران، طی ۶ سال آینده خبر داد.</td>\n",
              "      <td>Oil-Energy</td>\n",
              "      <td>گاز</td>\n",
              "      <td>Shana</td>\n",
              "      <td>https://www.shana.ir/news/251608/%D8%B5%D9%86%D8%B9%D8%AA-%DA%AF%D8%A7%D8%B2-%D8%AF%D8%B1-6-%D8%B3%D8%A7%D9%84-%D8%A2%DB%8C%D9%86%D8%AF%D9%87-%D8%B4%D8%A7%D9%87%D8%AF-%D8%AA%D8%AD%D9%88%D9%84-%D8%A8%D8%B2%D8%B1%DA%AF%DB%8C-%D8%AE%D9%88%D8%A7%D9%87%D8%AF-%D8%A8%D9%88%D8%AF</td>\n",
              "    </tr>\n",
              "    <tr>\n",
              "      <th>7</th>\n",
              "      <td>52cbc66c4cc117b5b0ec01dce5d99274b69f9b2b</td>\n",
              "      <td>جاده چالوس و هراز برفی شد/ تردد روان در همه محورها</td>\n",
              "      <td>به گزارش خبرگزاری مهر، مرکز مدیریت اطلاعات راه‌ها و حمل و نقل جاده‌ای کشور اعلام کرد: طی شبانه روز گذشته، بر اساس آخرین اطلاعات دریافتی از ۲۲۹۸ تردد شمار فعال در محورهای برون‌شهری، نسبت به روز قبل ۰٫۷ درصد افزایش تردد را نشان می‌دهد.   همچنین سهم وسایل نقلیه سنگین ۱۶٫۲ درصد، اوج تردد بین ساعات ۱۷ الی ۱۸ و کمترین تردد بین ساعات ۳ الی ۴ صورت پذیرفته که هموطنان عزیز با آگاهی از این موضوع می‌توانند ساعات مناسب‌تری را برای سفر انتخاب کنند.   محورهای دارای بیشترین تردد طی ۲۴ ساعت گذشته   تعداد وسیله نقلیه   آزادر [...]</td>\n",
              "      <td>مرکز مدیریت راه‌ها از بارش برف و باران در محورهای هراز و چالوس و احتمال لغزنده شدن این محورها خبر داد.</td>\n",
              "      <td>Economy</td>\n",
              "      <td>اقتصاد</td>\n",
              "      <td>Mehr</td>\n",
              "      <td>https://www.mehrnews.com/news/5069652/%D8%AC%D8%A7%D8%AF%D9%87-%DA%86%D8%A7%D9%84%D9%88%D8%B3-%D9%88-%D9%87%D8%B1%D8%A7%D8%B2-%D8%A8%D8%B1%D9%81%DB%8C-%D8%B4%D8%AF-%D8%AA%D8%B1%D8%AF%D8%AF-%D8%B1%D9%88%D8%A7%D9%86-%D8%AF%D8%B1-%D9%87%D9%85%D9%87-%D9%85%D8%AD%D9%88%D8%B1%D9%87%D8%A7</td>\n",
              "    </tr>\n",
              "    <tr>\n",
              "      <th>8</th>\n",
              "      <td>968429a0ba90429d2ae9a3302b545ddc58ac6caf</td>\n",
              "      <td>پاسخ واعظی به احتمالات درباره گفتگو بین ایران و آمریکا / پانزده سال دیگر درباره وقایع دی ماه ۹۶ صحبت می‌کنم</td>\n",
              "      <td>محمود واعظی، رئیس دفتر رئیس جمهور در گفتگویی تفصیلی به بیان نکاتی پیرامون شکست آمریکا در شورای امنیت، مکانیسم ماشه و … پرداخته است که بخشی از آن را در ادامه می‌خوانید.   به‌نظر می‌رسد برجام سازوکار یا توافقی است که هنوز هم دارد کار می‌کند و نتیجه می‌دهد. علاوه بر شکست امریکا در شورای امنیت برای تداوم تحریم تسلیحاتی ایران، امروز این کشور در فعال‌سازی آنچه مکانیسم ماشه می‌خواند هم منزوی شده است. با توجه به آنکه برخی مخالفان داخلی این توافق را مرده می‌خوانند، ارزیابی شما از برجام تا امروز چیست و به‌نظر شما تلا [...]</td>\n",
              "      <td>روزنامه ایران نوشت: واعظی گفت: ما از اتفاقاتی که در دی ماه ۹۶ در کشور رخ داد، عبور کردیم و دیگر نمی‌خواهیم آن را باز کنیم تا این مساله به نوبه خود باعث جدایی و تفرقه شود. ان‌شاء‌الله۱۰-۱۵ سال دیگر در این زمینه بحث می‌کنیم.</td>\n",
              "      <td>Politics</td>\n",
              "      <td>اخبار سیاسی ایران+مجلس</td>\n",
              "      <td>Khabaronline</td>\n",
              "      <td>https://www.khabaronline.ir/news/1425441/%D9%BE%D8%A7%D8%B3%D8%AE-%D9%88%D8%A7%D8%B9%D8%B8%DB%8C-%D8%A8%D9%87-%D8%A7%D8%AD%D8%AA%D9%85%D8%A7%D9%84%D8%A7%D8%AA-%D8%AF%D8%B1%D8%A8%D8%A7%D8%B1%D9%87-%DA%AF%D9%81%D8%AA%DA%AF%D9%88-%D8%A8%DB%8C%D9%86-%D8%A7%DB%8C%D8%B1%D8%A7%D9%86-%D9%88-%D8%A2%D9%85%D8%B1%DB%8C%DA%A9%D8%A7-%D9%BE%D8%A7%D9%86%D8%B2%D8%AF%D9%87</td>\n",
              "    </tr>\n",
              "    <tr>\n",
              "      <th>9</th>\n",
              "      <td>865d4193bb05520b782840ac22367490ef2f4ad6</td>\n",
              "      <td>لزوم آمادگی شرکت‌های گاز استانی برای مدیریت بحران</td>\n",
              "      <td>به گزارش شانا به نقل از شرکت ملی گاز، حمیدرضا عراقی، در نشستی یک روزه با مدیران صنعت گاز کشور که با هدف کسب آمادگی لازم و شناسایی و بررسی نقاط ضعف و قوت، تهدیدها و فرصت‌ها، تدوین و تشریح تمهیدات و راهکارهای لازم در مواقع بحرانی، برگزار شد، اظهار کرد: ما در زمان وقوع زلزله کرمانشاه عملکرد مطلوبی داشتیم و از نظر سرعت عمل برای قطع جریان گاز و سپس رفع مشکلات به‌وجود آمده و وصل مجدد جریان گاز در بخش‌های مختلف خیلی سریع و مناسب عمل کردیم.   وی با بیان اینکه شرکت گاز و شرکت‌های معین استان کرمانشاه در زمره نخستین ش [...]</td>\n",
              "      <td>معاون وزیر نفت در امور گاز گفت: همانطور که شرکت ملی گاز در زمان وقوع زلزله کرمانشاه، بحران را به درستی مدیریت کرد باید در همه کشور چنین آمادگی برای مدیریت بحران داشته باشد.</td>\n",
              "      <td>Oil-Energy</td>\n",
              "      <td>گاز</td>\n",
              "      <td>Shana</td>\n",
              "      <td>https://www.shana.ir/news/280566/%D9%84%D8%B2%D9%88%D9%85-%D8%A2%D9%85%D8%A7%D8%AF%DA%AF%DB%8C-%D8%B4%D8%B1%DA%A9%D8%AA-%D9%87%D8%A7%DB%8C-%DA%AF%D8%A7%D8%B2-%D8%A7%D8%B3%D8%AA%D8%A7%D9%86%DB%8C-%D8%A8%D8%B1%D8%A7%DB%8C-%D9%85%D8%AF%DB%8C%D8%B1%DB%8C%D8%AA-%D8%A8%D8%AD%D8%B1%D8%A7%D9%86</td>\n",
              "    </tr>\n",
              "  </tbody>\n",
              "</table>\n",
              "<p>10 rows × 8 columns</p>"
            ]
          },
          "metadata": {}
        }
      ]
    },
    {
      "cell_type": "code",
      "source": [
        "# Display a sample of the dataset\n",
        "# Use a smaller subset of the dataset for faster training\n",
        "# Shuffle and select a smaller subset for training and validation\n",
        "train = data[\"train\"].shuffle(seed=42).select(range(1000))  # Use the first 1000 examples for training\n",
        "validation = data[\"validation\"].shuffle(seed=42).select(range(200))  # Use the first 200 examples for validation\n",
        "\n",
        "\n",
        "indices = np.random.randint(0, len(train), 10).tolist()\n",
        "df = pd.DataFrame(train[indices])\n",
        "df = df[[\"id\", \"title\", \"article\", \"summary\", \"category\", \"categories\", \"network\", \"link\"]]\n",
        "df[\"article\"] = df[\"article\"].apply(lambda t: t.replace('[n]', ' ')[:512] + ' [...]')\n",
        "df[\"category\"] = df[\"category\"].apply(lambda t: train.features[\"category\"].int2str(t))\n",
        "df[\"network\"] = df[\"network\"].apply(lambda t: train.features[\"network\"].int2str(t))\n",
        "\n",
        "# Display the sample dataframe\n",
        "display.display(display.HTML(df.to_html(border=2, show_dimensions=True, justify='right', classes='xxx')))\n"
      ],
      "metadata": {
        "colab": {
          "base_uri": "https://localhost:8080/",
          "height": 1000
        },
        "id": "pRysT6xgTVDv",
        "outputId": "654a18e7-4ebf-4b93-8148-c140bfbffc68"
      },
      "execution_count": null,
      "outputs": [
        {
          "output_type": "display_data",
          "data": {
            "text/plain": [
              "<IPython.core.display.HTML object>"
            ],
            "text/html": [
              "<table border=\"2\" class=\"dataframe xxx\">\n",
              "  <thead>\n",
              "    <tr style=\"text-align: right;\">\n",
              "      <th></th>\n",
              "      <th>id</th>\n",
              "      <th>title</th>\n",
              "      <th>article</th>\n",
              "      <th>summary</th>\n",
              "      <th>category</th>\n",
              "      <th>categories</th>\n",
              "      <th>network</th>\n",
              "      <th>link</th>\n",
              "    </tr>\n",
              "  </thead>\n",
              "  <tbody>\n",
              "    <tr>\n",
              "      <th>0</th>\n",
              "      <td>19bdd32376580c1ac323303f7f38f0d3dfae4d40</td>\n",
              "      <td>ورود شاخص کل بورس به کانال ۳۵۰ هزار واحد امروز ۲۷ آذر</td>\n",
              "      <td>به گزارش خبرنگار ایمنا، شاخص بورس تهران امروز چهارشنبه ۲۷ آذر ماه با افزایش سه هزار و ۴۵۲ واحدی عدد ۳۵۰ هزار و ۳۲۳ واحد را نمایش داد. شاخص هم وزن نیز به رقم ۱۱۰ هزار و ۹۰۷ واحد رسید. شاخص بازار اول به کانال ۲۵۰ هزار واحدی وارد شد و شاخص بازار دوم نیز عدد ۷۳۱ هزار واحد را نمایش داد. امروز آیفکس نیز چهار هزار و ۵۳۱ واحد را ثبت کرد.   بر این اساس امروز با دست به دست شدن پنج میلیارد و ۶۲ میلیون سهم و اوراق بهادار طی ۵۷۱ هزار نوبت داد و ستد، ارزش معاملات به بیش از دو هزار و ۵۸۲ میلیارد تومان رسید.   در معاملات ا [...]</td>\n",
              "      <td>شاخص کل بورس تهران که از ابتدای روند معاملات امروز افزایشی شده بود پس از تجربه دو پالس منفی در طول فعالیت خود در نهایت با سه هزار و ۴۵۲ واحد افزایش به کار خود پایان داد.</td>\n",
              "      <td>Economy</td>\n",
              "      <td>اقتصادی</td>\n",
              "      <td>Imna</td>\n",
              "      <td>https://www.imna.ir/news/401775/%D9%88%D8%B1%D9%88%D8%AF-%D8%B4%D8%A7%D8%AE%D8%B5-%DA%A9%D9%84-%D8%A8%D9%88%D8%B1%D8%B3-%D8%A8%D9%87-%DA%A9%D8%A7%D9%86%D8%A7%D9%84-%DB%B3%DB%B5%DB%B0-%D9%87%D8%B2%D8%A7%D8%B1-%D9%88%D8%A7%D8%AD%D8%AF-%D8%A7%D9%85%D8%B1%D9%88%D8%B2-%DB%B2%DB%B7-%D8%A2%D8%B0%D8%B1</td>\n",
              "    </tr>\n",
              "    <tr>\n",
              "      <th>1</th>\n",
              "      <td>cebb3b2e10010167de444a2e0ceab33e1ca52dbc</td>\n",
              "      <td>مدرک تحصیلی دوم فرهنگیان در رتبه شغلی اعمال خواهد شد</td>\n",
              "      <td>به گزارش بازار به نقل از خانه ملت، نمایندگان در نشست علنی امروز (سه شنبه، ۱۱ آذرماه) مجلس شورای اسلامی در جریان بررسی گزارش کمیسیون برنامه و بودجه و محاسبات در مورد طرح یک فوریتی تنظیم برخی از مقررات مالی، اداری و پشتیبانی وزارت آموزش و پرورش با اصلاح تبصره ماده (۳) این قانون جهت تامین نظر شورای نگهبان موافقت کردند.   در تبصره اصلاحی آمده است: وزارت آموزش و پرورش مکلف است در سال ۱۳۹۹ نسبت به اعمال مدرک تحصیلی دوم افرادی که فعالیت آموزشی در مدارس دارند، اقدام کند. بار مالی این تبصره در سقف اعتبار پیش‌بینی‌شد [...]</td>\n",
              "      <td>نمایندگان مجلس شورای اسلامی مقرر کردند که مدرک تحصیلی دوم فرهنگیان و افراد شاغل در مدارس در رتبه شغلی آن‌ها اعمال شود.</td>\n",
              "      <td>Local</td>\n",
              "      <td>ایران</td>\n",
              "      <td>Tahlilbazaar</td>\n",
              "      <td>https://www.tahlilbazaar.com/news/57681/%D9%85%D8%AF%D8%B1%DA%A9-%D8%AA%D8%AD%D8%B5%DB%8C%D9%84%DB%8C-%D8%AF%D9%88%D9%85-%D9%81%D8%B1%D9%87%D9%86%DA%AF%DB%8C%D8%A7%D9%86-%D8%AF%D8%B1-%D8%B1%D8%AA%D8%A8%D9%87-%D8%B4%D8%BA%D9%84%DB%8C-%D8%A7%D8%B9%D9%85%D8%A7%D9%84-%D8%AE%D9%88%D8%A7%D9%87%D8%AF-%D8%B4%D8%AF</td>\n",
              "    </tr>\n",
              "    <tr>\n",
              "      <th>2</th>\n",
              "      <td>8658bab2342924ceb2d731abd72ef9df00655aa3</td>\n",
              "      <td>وزارت بهداشت: بیماران بهبود یافته پلاسما اهدا کنند</td>\n",
              "      <td>سیما سادات لاری، گفت: استفاده از پلاسمای خون بهبودیافتگان کرونا یکی از روش‌های درمانی برای درمان بیماران مبتلا به کووید۱۹ در بیمارستان‌ها است و تزریق آن در ابتدای بیماری می‌تواند در جلوگیری از بدحال شدن بیماران موثر باشد.   وی افزود: میران مراجعه برای اهدای پلاسمای بهبودیافتگان از ابتدای اردیبهشت ماه تا امروز (۲۹ آبان‌ماه) در کل کشور ۱۳ هزار و ۷۰۰ نفر بوده است که از این میزان مراجعه تاکنون ۱۱ هزار و ۲۷۰ واحد پلاسما جمع‌آوری شده است. تاکنون تنها ۲ درصد از بهبودیافتگان از بیماری کووید۱۹ جهت اهدای پلاسمابه مرا [...]</td>\n",
              "      <td>میزان نوشت: سخنگوی وزارت بهداشت با اشاره به نقش پلاسمادرمانی در بهبود مبتلایان کرونا از بهبودیافتگان این بیماری خواست تا با مراجعه به مراکز انتقال خون اقدام به اهدای پلاسما کنند</td>\n",
              "      <td>Society</td>\n",
              "      <td>اخبار اجتماعی+سلامت</td>\n",
              "      <td>Khabaronline</td>\n",
              "      <td>https://www.khabaronline.ir/news/1457404/%D9%88%D8%B2%D8%A7%D8%B1%D8%AA-%D8%A8%D9%87%D8%AF%D8%A7%D8%B4%D8%AA-%D8%A8%DB%8C%D9%85%D8%A7%D8%B1%D8%A7%D9%86-%D8%A8%D9%87%D8%A8%D9%88%D8%AF-%DB%8C%D8%A7%D9%81%D8%AA%D9%87-%D9%BE%D9%84%D8%A7%D8%B3%D9%85%D8%A7-%D8%A7%D9%87%D8%AF%D8%A7-%DA%A9%D9%86%D9%86%D8%AF</td>\n",
              "    </tr>\n",
              "    <tr>\n",
              "      <th>3</th>\n",
              "      <td>9e38c0dcca7ea894bfb53d2d6f826492393d4bd4</td>\n",
              "      <td>وزیر نفت: سی‌ان‌جی؛ سوخت ملی ماست</td>\n",
              "      <td>به گزارش خبرنگار شانا، بیژن زنگنه صبح امروز (یکشنبه، ۲۴ آذرماه) در آیین امضای تفاهم‌نامه تامین مالی طرح توسعه و تولید کارخانه‌ای و کارگاهی خودروهای دوگانه‌سوز بین شرکت ملی پخش فرآورده‌های نفتی و بانک ملت، با قدردانی از بانک ملت که مانند همیشه پیشتاز همکاری در کارهای صنعت نفت است و همچنین وزارت کشور، سازمان برنامه و بودجه و همه اشخاصی که با همت و اراده خود تلاش کردند مصوبه شورای اقتصاد این طرح ظرف دو روز دریافت و ابلاغ شود، اظهار کرد: این بی‌انصافی است اگر کاری تمام می‌شود یک نفر بخواهد به نام خود تمام کند؛  [...]</td>\n",
              "      <td>وزیر نفت از گاز و سی‌ان‌جی به‌عنوان سوخت ملی نام برد و گفت: هیچ کشوری در دنیا مانند ایران نیست که حدود ۹۵ درصد جمعیت آن زیر پوشش گاز طبیعی باشند و ظرفیت استفاده از خودروهای گازسوز را داشته باشند.</td>\n",
              "      <td>Oil-Energy</td>\n",
              "      <td>نفت</td>\n",
              "      <td>Shana</td>\n",
              "      <td>https://www.shana.ir/news/296579/%D9%88%D8%B2%DB%8C%D8%B1-%D9%86%D9%81%D8%AA-%D8%B3%DB%8C-%D8%A7%D9%86-%D8%AC%DB%8C-%D8%B3%D9%88%D8%AE%D8%AA-%D9%85%D9%84%DB%8C-%D9%85%D8%A7%D8%B3%D8%AA</td>\n",
              "    </tr>\n",
              "    <tr>\n",
              "      <th>4</th>\n",
              "      <td>fc384630897debedefcd806d86eb3a523da0c38b</td>\n",
              "      <td>آسیب ۱۰ هزار کیلومتر از راه‌های کشور در سیل اخیر</td>\n",
              "      <td>به گزارش بازار به نقل از روابط عمومی سازمان راهداری و حمل و نقل جاده‌ای، رضا اکبری معاون راهداری این با اشاره به اینکه سیل اخیر ۶۰۰ میلیارد تومان خسارت اولیه به جاده‌های کشور در مناطق سیل زده وارد کرده است، افزود: از ابتدای وقوع سیل در کشور، ۵۷۶ محور به طول ۹هزارو ۹۳۴ کیلومتراز شبکه جاده‌ای و راههای ارتباطی آسیب دیدند ایندر حالی است که ۱۹استان درگیر سیل شدندو در۱۱ استان بیشترین خسارات وارده به راهها وجود دارد.   وی گفت: خوشبختانه با تلاش و همت راهداران تا کنون بسیاری از راههای اصلی، شریانی و غیر شریانی آسیب [...]</td>\n",
              "      <td>معاون سازمان راهداری و حمل‌ و نقل جاده‌ای اعلام‌کرد: وقوع سیل اخیر موجب بروز خسارات در ۹ هزار و ۹۳۴ کیلومتر از راه‌های کشور شد و ۸۸۶ دستگاه پل و ابنیه فنی جاده‌ها را تخریب کرد.</td>\n",
              "      <td>Transportation</td>\n",
              "      <td>خودرو</td>\n",
              "      <td>Tahlilbazaar</td>\n",
              "      <td>https://www.tahlilbazaar.com/news/12378/%D8%A2%D8%B3%DB%8C%D8%A8-%DB%B1%DB%B0-%D9%87%D8%B2%D8%A7%D8%B1-%DA%A9%DB%8C%D9%84%D9%88%D9%85%D8%AA%D8%B1-%D8%A7%D8%B2-%D8%B1%D8%A7%D9%87-%D9%87%D8%A7%DB%8C-%DA%A9%D8%B4%D9%88%D8%B1-%D8%AF%D8%B1-%D8%B3%DB%8C%D9%84-%D8%A7%D8%AE%DB%8C%D8%B1</td>\n",
              "    </tr>\n",
              "    <tr>\n",
              "      <th>5</th>\n",
              "      <td>8cc66e8c3bb9fc6bb263e377f2e90a3a8be7772d</td>\n",
              "      <td>روبات روسی به فضا می‌رود</td>\n",
              "      <td>به گزارش گروه علم وفناوری ایمنا، نخستین نمونه روبات شرکت دولتی روس کاسموس پیمانکار این طرح علمی و فضایی، قرار است سال ۲۰۱۹ برای آزمایش آماده شود.   براساس برنامه ریزی صورت گرفته، روبات ویژه که انتظار می‌رود سال ۲۰۲۱ به ایستگاه فضایی بین المللی منتقل شود، توان انجام امور مختلف از جمله راهپیمایی و هدایت فضاپیمای باری بدون سرنشین را هم خواهد داشت.   پایگاه روزنامه روسی ایزوستیا امروز (دوشنبه) نوشت: طراحی روبات در مرکز علمی و پژوهشی ار. ت. کا به سفارش شرکت روسی انرگیا (تولیدکننده دستگاههای فضایی ازجمله موشک و م [...]</td>\n",
              "      <td>روسیه روبات ویژه‌ای را طراحی می‌کند تا برای انجام ماموریت‌های تعریف شده در ایستگاه فضایی بین المللی بکار گرفته شود.</td>\n",
              "      <td>Science-Technology</td>\n",
              "      <td>علم و فناوری</td>\n",
              "      <td>Imna</td>\n",
              "      <td>https://www.imna.ir/news/303997/%D8%B1%D9%88%D8%A8%D8%A7%D8%AA-%D8%B1%D9%88%D8%B3%DB%8C-%D8%A8%D9%87-%D9%81%D8%B6%D8%A7-%D9%85%DB%8C-%D8%B1%D9%88%D8%AF</td>\n",
              "    </tr>\n",
              "    <tr>\n",
              "      <th>6</th>\n",
              "      <td>a5a574f0520ee42f5dede8c989fab63bcb2d97f6</td>\n",
              "      <td>پافشاری عربستان بر کاهش ندادن تولید نفت</td>\n",
              "      <td>به گزارش خبرگزاری رویترز از هیوستن، علی النعیمی، وزیر نفت عربستان، دیروز (سه شنبه چهارم اسفند) ضمن ابراز امیدواری درباره پیوستن کشورهایی بیشتر به توافق افزایش ندادن تولید نفت، احتمال کاهش عرضه نفت را از سوی تولیدکنندگان عمده نفت در آینده نزدیک منتفی دانست.   النعیمی در همایشی در آمریکا اعلام کرد که افزایش همراهی با توافق افزایش ندادن تولید از یک سو و رشد تقاضای جهانی نفت از سوی دیگر، به تدریج وضع کنونی عرضه بیش از حد نفت را در بازار از میان می‌برد!   وزیر نفت عربستان گفت: افزایش ندادن عرضه، گام نخست از یک ف [...]</td>\n",
              "      <td>وزیر نفت عربستان احتمال کاهش تولید نفت این کشور را منتفی دانست اما نسبت به پیوستن کشورهای دیگر به توافق افزایش ندادن تولید، ابراز اطمینان کرد.</td>\n",
              "      <td>International</td>\n",
              "      <td>بین المللی</td>\n",
              "      <td>Shana</td>\n",
              "      <td>https://www.shana.ir/news/255701/%D9%BE%D8%A7%D9%81%D8%B4%D8%A7%D8%B1%DB%8C-%D8%B9%D8%B1%D8%A8%D8%B3%D8%AA%D8%A7%D9%86-%D8%A8%D8%B1-%DA%A9%D8%A7%D9%87%D8%B4-%D9%86%D8%AF%D8%A7%D8%AF%D9%86-%D8%AA%D9%88%D9%84%DB%8C%D8%AF-%D9%86%D9%81%D8%AA</td>\n",
              "    </tr>\n",
              "    <tr>\n",
              "      <th>7</th>\n",
              "      <td>08526f721ac36140148b876a0196fa57a9bd0062</td>\n",
              "      <td>اثربخشی صنعت نمایشگاهی افزایش می‌یابد</td>\n",
              "      <td>به گزارشبازرا به نقل از شاتا، حمید زادبوم در دیدار با اعضای انجمن نمایشگاه‌های ایران، انعقاد این تفاهم‌نامه را سبب افزایش همکاری میان سازمان توسعه تجارت ایران و انجمن نمایشگاه‌های ایران دانست که زمینه استفاده از توانمندی تشکل‌ها در جهت افزایش اثر بخشی صنعت نمایشگاهی و ایجاد رقابت سالم میان برگزار کنندگان نمایشگاه‌ها در سراسر کشور را فراهم می‌آورد.   در ادامه این نشست، مدیران عامل شرکت‌های نمایشگاهی استان‌ها، مشکلات و دغدغه‌های خود را مطرح کرده و در خصوص راهکارهای مناسب بحث و بررسی صورت گرفت.   گفتنی است، هم [...]</td>\n",
              "      <td>زادبوم، رئیس کل سازمان توسعه تجارت ایران و رئیس انجمن نمایشگاه‌های ایران، تفاهم‌نامه‌ای برای همکاری‌های بیشتر و افزایش اثر بخشی صنعت نمایشگاهی امضا کردند.</td>\n",
              "      <td>Industry</td>\n",
              "      <td>صنعت</td>\n",
              "      <td>Tahlilbazaar</td>\n",
              "      <td>https://www.tahlilbazaar.com/news/44508/%D8%A7%D8%AB%D8%B1%D8%A8%D8%AE%D8%B4%DB%8C-%D8%B5%D9%86%D8%B9%D8%AA-%D9%86%D9%85%D8%A7%DB%8C%D8%B4%DA%AF%D8%A7%D9%87%DB%8C-%D8%A7%D9%81%D8%B2%D8%A7%DB%8C%D8%B4-%D9%85%DB%8C-%DB%8C%D8%A7%D8%A8%D8%AF</td>\n",
              "    </tr>\n",
              "    <tr>\n",
              "      <th>8</th>\n",
              "      <td>232a6963ac0adcd79d105b35a9eddde40122f977</td>\n",
              "      <td>قالیباف: به هیچ کس سهم نمی‌دهم /دولتم شرکت سهامی نیست</td>\n",
              "      <td>به گزارش خبرگزاری خبرآنلاین، انتخابات سال ۸۴ با حضور چند کاندیدای مطرح از هر دو جناح راست و چپ برگزار شد. محمدباقر قالیباف از جمله کاندیداهای آن انتخابات بود که اولین حضورش در انتخابات ریاست جمهوری را تجربه می‌کرد.   او که خود را فردی غیرحزبی می‌دانست، در ۲۴ اردیبهشت سال ۸۴ در سخنرانی تبلیغاتی می‌گوید: هیچ وابستگی حزبی ندارم اما حمایت هر حزب قانونی را می‌پذیرم ولی به واسطه‌ی این حمایت حتما سهمی به آن حزب نمی‌دهم، چون نمی‌خواهم دولتم شرکت سهامی باشد.   وی که از سوی ستادش کاندیدای نوگرای اصولگرا خوانده می‌شد، [...]</td>\n",
              "      <td>قالیباف از کاندیداهای انتخابات سال ۸۴ بود که خود را یک کاندیدای نوگرای اصولگرا معرفی می‌کرد.</td>\n",
              "      <td>Politics</td>\n",
              "      <td>اخبار سیاسی ایران+احزاب و شخصیت‌ها</td>\n",
              "      <td>Khabaronline</td>\n",
              "      <td>https://www.khabaronline.ir/news/1456322/%D9%82%D8%A7%D9%84%DB%8C%D8%A8%D8%A7%D9%81-%D8%A8%D9%87-%D9%87%DB%8C%DA%86-%DA%A9%D8%B3-%D8%B3%D9%87%D9%85-%D9%86%D9%85%DB%8C-%D8%AF%D9%87%D9%85-%D8%AF%D9%88%D9%84%D8%AA%D9%85-%D8%B4%D8%B1%DA%A9%D8%AA-%D8%B3%D9%87%D8%A7%D9%85%DB%8C-%D9%86%DB%8C%D8%B3%D8%AA</td>\n",
              "    </tr>\n",
              "    <tr>\n",
              "      <th>9</th>\n",
              "      <td>e3877f41f1c7382d47840281a35887237289f6c2</td>\n",
              "      <td>بازار مسکن از افتخارات آخوندی رنج می‌برد</td>\n",
              "      <td>به گزارش بازار، مجتبی یوسفی، عضو کمیسیون عمران مجلس شورای اسلامی، با اشاره به ارتباط ۱۷۶ شغل به بازار مسکن گفت: اگر در حوزه مسکن رونق صورت گیرد، اقتصاد جهش خواهد کرد و کمک می‌کند از رکود فاصله بگیریم.   وی با بیان این مطلب به تشریح طرح جهش تولید مسکن پرداخت و گفت: اولویت مجلس یازدهم ورود به موضوعاتی بود که برای مردم در بعد اقتصادی دغدغه بود.   یوسفی با اشاره به اینکه رهن و اجاره مسکن برای گروهی از مردم آرزو شده است، خاطرنشان کرد: اگر قرار است طرحی دو فوریتی برای ریل گذاری حوزه اجرای دولت‌ها به تصویب برسانیم [...]</td>\n",
              "      <td>یوسفی، عضو کمیسیون عمران مجلس شورای اسلامی گفت: اگر امروز دچار مشکل مسکن هستیم، چون در شش سال مدیریت آخوندی، افتخار وزیر این بود که در حوزه مدیریت خود حتی یک واحد مسکن هم نساخته است.</td>\n",
              "      <td>Roads-Urban</td>\n",
              "      <td>راه و مسکن</td>\n",
              "      <td>Tahlilbazaar</td>\n",
              "      <td>https://www.tahlilbazaar.com/news/47085/%D8%A8%D8%A7%D8%B2%D8%A7%D8%B1-%D9%85%D8%B3%DA%A9%D9%86-%D8%A7%D8%B2-%D8%A7%D9%81%D8%AA%D8%AE%D8%A7%D8%B1%D8%A7%D8%AA-%D8%A2%D8%AE%D9%88%D9%86%D8%AF%DB%8C-%D8%B1%D9%86%D8%AC-%D9%85%DB%8C-%D8%A8%D8%B1%D8%AF</td>\n",
              "    </tr>\n",
              "  </tbody>\n",
              "</table>\n",
              "<p>10 rows × 8 columns</p>"
            ]
          },
          "metadata": {}
        }
      ]
    },
    {
      "cell_type": "code",
      "source": [
        "# Initialize the tokenizer and model\n",
        "model_name = \"google/mt5-small\"  # or \"t5-small\" for T5\n",
        "tokenizer = MT5Tokenizer.from_pretrained(model_name)\n",
        "model = MT5ForConditionalGeneration.from_pretrained(model_name)"
      ],
      "metadata": {
        "id": "LBl8mS4vTwOS"
      },
      "execution_count": null,
      "outputs": []
    },
    {
      "cell_type": "code",
      "source": [
        "# Preprocess the dataset\n",
        "def preprocess_data(examples):\n",
        "    inputs = examples[\"article\"]\n",
        "    targets = examples[\"summary\"]\n",
        "    model_inputs = tokenizer(inputs, max_length=512, padding=\"max_length\", truncation=True)\n",
        "\n",
        "    # Setup the tokenizer for targets\n",
        "    with tokenizer.as_target_tokenizer():\n",
        "        labels = tokenizer(targets, max_length=150, padding=\"max_length\", truncation=True)\n",
        "\n",
        "    model_inputs[\"labels\"] = labels[\"input_ids\"]\n",
        "    return model_inputs\n",
        "\n",
        "train_tokenized_data = train.map(preprocess_data, batched=True)\n",
        "validation_tokenized_data = validation.map(preprocess_data, batched=True)"
      ],
      "metadata": {
        "colab": {
          "base_uri": "https://localhost:8080/",
          "height": 138,
          "referenced_widgets": [
            "1671d49b2e2b4e88818f9a7ecc1c9857",
            "0bbcb2e0cde14019a1bfc8e212c74dfb",
            "296d60737ef7422f930968922f7d1952",
            "e556c1388b8a4bbd9b8800f1632fd26e",
            "c231adc90cbb43569811dd6299b83a21",
            "3bf2e721f341463db2791b0cdfbf40cb",
            "784dda0dbbc44c388a14eeb6c60dcb9c",
            "e67766ba851544f4a509e74bdc992955",
            "7785d46983fc405a9e4787ed5c95e440",
            "4bb92340e92e441bb9f9f0fd9b9c7181",
            "70d3a274241d497c961175b74c0afd3e",
            "78bed8e736464d569475a73b2a26d2c9",
            "fdd09403151a485cafc3e757d31c57ee",
            "a685eb6945f3431aa38a21a8c01008fc",
            "984a37babc7a4fc5bd519d992070fb62",
            "d4738cfb1817420999adb7d741b1cecf",
            "947e36e216554e3c8c723286a18703b6",
            "83cd5dc46556454899ed642d66461cae",
            "8c083bdded99405a998ed7322b6dbc3a",
            "9fa70914a84c46248767b6a02ae83b8e",
            "79a34f341636496ea258d6316f4fb3aa",
            "f1eebc24848a426bbc6f0fd1f3d3791b"
          ]
        },
        "id": "Og7caF4gT1HB",
        "outputId": "c49a45ff-9edb-41ff-e94b-97a2e4b2148d"
      },
      "execution_count": null,
      "outputs": [
        {
          "output_type": "display_data",
          "data": {
            "text/plain": [
              "Map:   0%|          | 0/1000 [00:00<?, ? examples/s]"
            ],
            "application/vnd.jupyter.widget-view+json": {
              "version_major": 2,
              "version_minor": 0,
              "model_id": "1671d49b2e2b4e88818f9a7ecc1c9857"
            }
          },
          "metadata": {}
        },
        {
          "output_type": "stream",
          "name": "stderr",
          "text": [
            "/usr/local/lib/python3.10/dist-packages/transformers/tokenization_utils_base.py:4016: UserWarning: `as_target_tokenizer` is deprecated and will be removed in v5 of Transformers. You can tokenize your labels by using the argument `text_target` of the regular `__call__` method (either in the same call as your input texts if you use the same keyword arguments, or in a separate call.\n",
            "  warnings.warn(\n"
          ]
        },
        {
          "output_type": "display_data",
          "data": {
            "text/plain": [
              "Map:   0%|          | 0/200 [00:00<?, ? examples/s]"
            ],
            "application/vnd.jupyter.widget-view+json": {
              "version_major": 2,
              "version_minor": 0,
              "model_id": "78bed8e736464d569475a73b2a26d2c9"
            }
          },
          "metadata": {}
        }
      ]
    },
    {
      "cell_type": "code",
      "source": [
        "# Install necessary libraries\n",
        "!pip install -accelerate>=0.21.0"
      ],
      "metadata": {
        "colab": {
          "base_uri": "https://localhost:8080/"
        },
        "id": "amZJIVpCVFeW",
        "outputId": "6081abf9-4c74-46e9-c4f6-f1031be1b574"
      },
      "execution_count": null,
      "outputs": [
        {
          "output_type": "stream",
          "name": "stdout",
          "text": [
            "\n",
            "Usage:   \n",
            "  pip3 install [options] <requirement specifier> [package-index-options] ...\n",
            "  pip3 install [options] -r <requirements file> [package-index-options] ...\n",
            "  pip3 install [options] [-e] <vcs project url> ...\n",
            "  pip3 install [options] [-e] <local project path> ...\n",
            "  pip3 install [options] <archive url/path> ...\n",
            "\n",
            "no such option: -a\n"
          ]
        }
      ]
    },
    {
      "cell_type": "code",
      "source": [
        "# Set training arguments\n",
        "training_args = TrainingArguments(\n",
        "    output_dir=\"./results\",\n",
        "    evaluation_strategy=\"epoch\",\n",
        "    learning_rate=2e-5,\n",
        "    per_device_train_batch_size=4,\n",
        "    per_device_eval_batch_size=4,\n",
        "    num_train_epochs=1,\n",
        "    weight_decay=0.01,\n",
        "    logging_dir=\"./logs\",\n",
        "    fp16=True,  # Enable mixed precision training\n",
        "\n",
        ")\n",
        "\n",
        "# Initialize the Trainer\n",
        "trainer = Trainer(\n",
        "    model=model,\n",
        "    args=training_args,\n",
        "    train_dataset=train_tokenized_data,\n",
        "    eval_dataset=validation_tokenized_data,\n",
        ")\n",
        "\n"
      ],
      "metadata": {
        "colab": {
          "base_uri": "https://localhost:8080/"
        },
        "id": "ByRQsSGhT6Yk",
        "outputId": "88ddd3d0-4b4d-47ba-9c34-ec0004b8d38c"
      },
      "execution_count": null,
      "outputs": [
        {
          "output_type": "stream",
          "name": "stderr",
          "text": [
            "/usr/local/lib/python3.10/dist-packages/transformers/training_args.py:1494: FutureWarning: `evaluation_strategy` is deprecated and will be removed in version 4.46 of 🤗 Transformers. Use `eval_strategy` instead\n",
            "  warnings.warn(\n"
          ]
        }
      ]
    },
    {
      "cell_type": "code",
      "source": [
        "# Fine-tune the model\n",
        "trainer.train()\n"
      ],
      "metadata": {
        "colab": {
          "base_uri": "https://localhost:8080/",
          "height": 162
        },
        "id": "y8-eLEm5T-2y",
        "outputId": "08fd424b-5861-4fb4-bc4f-02948445ee0e"
      },
      "execution_count": null,
      "outputs": [
        {
          "output_type": "display_data",
          "data": {
            "text/plain": [
              "<IPython.core.display.HTML object>"
            ],
            "text/html": [
              "\n",
              "    <div>\n",
              "      \n",
              "      <progress value='250' max='250' style='width:300px; height:20px; vertical-align: middle;'></progress>\n",
              "      [250/250 01:01, Epoch 1/1]\n",
              "    </div>\n",
              "    <table border=\"1\" class=\"dataframe\">\n",
              "  <thead>\n",
              " <tr style=\"text-align: left;\">\n",
              "      <th>Epoch</th>\n",
              "      <th>Training Loss</th>\n",
              "      <th>Validation Loss</th>\n",
              "    </tr>\n",
              "  </thead>\n",
              "  <tbody>\n",
              "    <tr>\n",
              "      <td>1</td>\n",
              "      <td>No log</td>\n",
              "      <td>nan</td>\n",
              "    </tr>\n",
              "  </tbody>\n",
              "</table><p>"
            ]
          },
          "metadata": {}
        },
        {
          "output_type": "execute_result",
          "data": {
            "text/plain": [
              "TrainOutput(global_step=250, training_loss=0.0, metrics={'train_runtime': 61.4056, 'train_samples_per_second': 16.285, 'train_steps_per_second': 4.071, 'total_flos': 528749690880000.0, 'train_loss': 0.0, 'epoch': 1.0})"
            ]
          },
          "metadata": {},
          "execution_count": 44
        }
      ]
    },
    {
      "cell_type": "code",
      "source": [
        "# Save the model\n",
        "trainer.save_model(\"./fine-tuned-mt5\")\n",
        "tokenizer.save_pretrained(\"./fine-tuned-mt5\")"
      ],
      "metadata": {
        "colab": {
          "base_uri": "https://localhost:8080/"
        },
        "id": "_p_6HRt8UD8D",
        "outputId": "e6ff6f37-d1dc-4120-b49f-13ee6422bdc4"
      },
      "execution_count": null,
      "outputs": [
        {
          "output_type": "execute_result",
          "data": {
            "text/plain": [
              "('./fine-tuned-mt5/tokenizer_config.json',\n",
              " './fine-tuned-mt5/special_tokens_map.json',\n",
              " './fine-tuned-mt5/spiece.model',\n",
              " './fine-tuned-mt5/added_tokens.json')"
            ]
          },
          "metadata": {},
          "execution_count": 45
        }
      ]
    },
    {
      "cell_type": "code",
      "source": [
        "from transformers import MT5ForConditionalGeneration, MT5Tokenizer\n",
        "\n",
        "# Load the fine-tuned model and tokenizer\n",
        "model_name = \"/content/fine-tuned-mt5\"\n",
        "tokenizer = MT5Tokenizer.from_pretrained(model_name)\n",
        "model = MT5ForConditionalGeneration.from_pretrained(model_name)\n",
        "\n",
        "# Function to generate a summary\n",
        "def generate_summary(article):\n",
        "    inputs = tokenizer(article, return_tensors=\"pt\", max_length=512, truncation=True)\n",
        "    summary_ids = model.generate(inputs[\"input_ids\"], max_length=150, num_beams=4, length_penalty=2.0, early_stopping=True)\n",
        "    summary = tokenizer.decode(summary_ids[0], skip_special_tokens=True)\n",
        "    return summary\n",
        "\n",
        "# Test the model with an example article\n",
        "example_article = \"\"\"\n",
        "به گزارش خبرنگار بازار، بیش از دو میلیون سهامدار بورس در مازندران وجود دارد که علاقه و انگیزه شان به تالار شیشه‌ای در ماه‌های اخیر درپی منفی و قرمز شدن این بازار روزبه روز کاسته شده است. بررسی و تحلیل آمارهای بورس مازندران نشان می‌دهد که هر هفته خیل فعالان این بازار در تالار شیشه‌ای استان کمتر می‌شود و کفه فروشندگان نسبت به خریداران آن هر روز سنگین‌تر می‌شود. کارشناسان و متولیان امر دلیل نابسامانی در بازار بورس را دخالت دولت و علت منفی بودن ماه‌های اخیر را دستوری بودن بیان می‌کنند. این درحالی است که ع\n",
        "\"\"\"\n",
        "\n",
        "# Generate the summary\n",
        "summary = generate_summary(example_article)\n",
        "print(\"Generated Summary:\", summary)\n"
      ],
      "metadata": {
        "id": "EfENYewNhZLm",
        "outputId": "264ec673-a5f8-4637-ebfa-7f57355ce174",
        "colab": {
          "base_uri": "https://localhost:8080/"
        }
      },
      "execution_count": null,
      "outputs": [
        {
          "output_type": "stream",
          "name": "stdout",
          "text": [
            "Generated Summary: <extra_id_0> بورس مازندران\n"
          ]
        }
      ]
    }
  ]
}